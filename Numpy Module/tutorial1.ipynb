{
 "cells": [
  {
   "cell_type": "markdown",
   "id": "7010a47c",
   "metadata": {},
   "source": [
    "# NumPy  ---> Numerical Python"
   ]
  },
  {
   "cell_type": "markdown",
   "id": "1492c9ea",
   "metadata": {},
   "source": [
    "##### Numpy is a powerful library for numerical computations, provides support for arrays, mathematical functions, linear algebra, random arrays generation, and more!\n"
   ]
  },
  {
   "cell_type": "markdown",
   "id": "b4e27df9",
   "metadata": {},
   "source": [
    "##### It is the foundation of most of the data sciences and ML libraries like, \n",
    "##### Pandas, Scikit-Learn, Pytorch, Tensorflow, etc."
   ]
  },
  {
   "cell_type": "code",
   "execution_count": 1,
   "id": "ed3dafe5",
   "metadata": {},
   "outputs": [],
   "source": [
    "# installation process\n",
    "# pip install numpy\n",
    "\n",
    "import numpy as np\n"
   ]
  },
  {
   "cell_type": "markdown",
   "id": "a2b38ec9",
   "metadata": {},
   "source": [
    "## Creating Numpy arrays\n",
    "\n",
    "##### 2 methods: 1. Lists    2. Tuples"
   ]
  },
  {
   "cell_type": "code",
   "execution_count": 36,
   "id": "a7bacbb7",
   "metadata": {},
   "outputs": [
    {
     "name": "stdout",
     "output_type": "stream",
     "text": [
      "Array: [1 2 3 4 5]\n",
      "Type of array: <class 'numpy.ndarray'>\n"
     ]
    }
   ],
   "source": [
    "import numpy as np\n",
    "\n",
    "array = np.array([1, 2, 3, 4, 5])\n",
    "\n",
    "print(f\"Array: {array}\")\n",
    "print(f\"Type of array: {type(array)}\")"
   ]
  },
  {
   "cell_type": "markdown",
   "id": "59af1bd0",
   "metadata": {},
   "source": [
    "##### With DataType"
   ]
  },
  {
   "cell_type": "code",
   "execution_count": 32,
   "id": "d91e4a3e",
   "metadata": {},
   "outputs": [
    {
     "name": "stdout",
     "output_type": "stream",
     "text": [
      "[1 2 3 4 5] <class 'numpy.ndarray'>\n",
      "[2. 3. 4. 6. 8.] <class 'numpy.ndarray'>\n"
     ]
    }
   ],
   "source": [
    "import numpy as np\n",
    "\n",
    "arr = np.array([1, 2, 3, 4.555, '5'], dtype = 'i')\n",
    "print(arr, type(arr))\n",
    "\n",
    "arr2 = np.array([2, 3, 4, 6, 8], dtype = 'f')\n",
    "print(arr2, type(arr2))\n"
   ]
  },
  {
   "cell_type": "markdown",
   "id": "fdb3cb5b",
   "metadata": {},
   "source": [
    "## NumPy vs List"
   ]
  },
  {
   "cell_type": "code",
   "execution_count": null,
   "id": "befb34be",
   "metadata": {},
   "outputs": [],
   "source": [
    "import numpy as np\n",
    "\n",
    "List = [1, 2, 3, 4, 5]\n",
    "print(List * 2)\n",
    "\n",
    "Array = np.array([1, 2, 3, 4, 5])\n",
    "print(Array * 2)\n"
   ]
  },
  {
   "cell_type": "markdown",
   "id": "64870c80",
   "metadata": {},
   "source": [
    "### Execution time taken "
   ]
  },
  {
   "cell_type": "code",
   "execution_count": null,
   "id": "a38d8636",
   "metadata": {},
   "outputs": [],
   "source": [
    "import numpy as np\n",
    "import time\n",
    "t = time.time()\n",
    "# Execution time for List\n",
    "List = [2 * i for i in range(20000)]\n",
    "\n",
    "print(f\"Execution time: {time.time()-t}\")\n",
    "\n",
    "u = time.time()\n",
    "# Execution time for numpy arrays\n",
    "npArr = np.arange(20000) * 2\n",
    "\n",
    "print(f\"Execution time: {time.time()-u}\")"
   ]
  },
  {
   "cell_type": "markdown",
   "id": "11dfcadd",
   "metadata": {},
   "source": [
    "### MultiDimensional arrays"
   ]
  },
  {
   "cell_type": "code",
   "execution_count": null,
   "id": "9b617105",
   "metadata": {},
   "outputs": [],
   "source": [
    "import numpy as np\n",
    "\n",
    "arr1 = np.array([[1, 2, 3],\n",
    "                [4, 5, 6], [7, 8, 9]])  # 2D array \n",
    "print(arr1, arr1.ndim)\n",
    "\n",
    "arr2 = np.array([[[1, 2, 3], [4, 5, 6]], [[7, 8, 9], [10, 11, 12]]])\n",
    "print(arr2, arr2.ndim)  # 3D array"
   ]
  },
  {
   "cell_type": "markdown",
   "id": "69d7099c",
   "metadata": {},
   "source": [
    "### Creating arrays from scratch"
   ]
  },
  {
   "cell_type": "code",
   "execution_count": null,
   "id": "a8c7cc67",
   "metadata": {},
   "outputs": [],
   "source": [
    "import numpy as np\n",
    "\n",
    "# Special values\n",
    "\n",
    "zero = np.zeros((2, 4), dtype='i')  # zero or null matrix\n",
    "print(f\"Zeros array: {zero}\")\n",
    "\n",
    "ones = np.ones((3, 3), dtype='i')\n",
    "print(f\"Ones array: {ones}\")  # Matrix with all entities 1\n",
    "\n",
    "full = np.full((3, 5), 6, dtype='i')   # full(dimensions in form of tuple, offset)\n",
    "print(f\"Full array with 6s: {full}\")\n",
    "\n",
    "random = np.random.rand(5, 3)    #creates an array with random values from [0, 1)\n",
    "print(f\"Random float array: {random}\")\n",
    "\n",
    "# to generate random numbers:\n",
    "randint = np.random.randint(1, 20)\n",
    "print(f\"Your single integer: {randint}\")\n",
    "\n",
    "# to generate ana array of random integers:\n",
    "rand = np.random.randint(1, 20, 5)  # 1D array\n",
    "randintArray = np.random.randint(1, 20, (3, 4))  # 2D array of random values\n",
    "print(f\"Your 2D random array: {randintArray}\")\n",
    "\n",
    "# Sequence array:\n",
    "seq1 = np.arange(1, 20)   # prints values sequence wise from 1 to 20\n",
    "seq = np.arange(0, 16, 3)  # prints from 0-16 with interval of 3\n",
    "print(f\"Our sequenced array is: {seq}\")\n",
    "\n",
    "\n",
    "# Diagonal 2D array\n",
    "\n",
    "diagonal = np.eye(4, dtype='i')\n",
    "print(f\"Diagonal array: \\n {diagonal}\")"
   ]
  },
  {
   "cell_type": "markdown",
   "id": "0660624e",
   "metadata": {},
   "source": [
    "## Vectors, Matrices and Tensors"
   ]
  },
  {
   "cell_type": "code",
   "execution_count": null,
   "id": "cd260459",
   "metadata": {},
   "outputs": [],
   "source": [
    "# Creating Vector\n",
    "\n",
    "array = np.array((1, 2, 3, 4, 5))\n",
    "print(f\"Vector: {array}\")\n",
    "\n",
    "# Creating Matrix\n",
    "\n",
    "Matrix = np.array([[1, 2, 3], [4, 5, 6], [7, 8, 9]])\n",
    "print(f\"Matrix: \\n{Matrix}\")\n",
    "\n",
    "# Creating Tensors (Multidimensional arrays)\n",
    "\n",
    "tensor = np.array([[[1, 2, 3], [4, 5, 6]], [[7, 8, 9], [10, 11, 12]]])\n",
    "print(f\"Tensor: \\n{tensor}\")"
   ]
  },
  {
   "cell_type": "markdown",
   "id": "9f1e807d",
   "metadata": {},
   "source": [
    "## Array Properties"
   ]
  },
  {
   "cell_type": "markdown",
   "id": "cf3ade74",
   "metadata": {},
   "source": [
    "##### We can check the shape, size, dimensions and data type of an array"
   ]
  },
  {
   "cell_type": "markdown",
   "id": "0f5a49bb",
   "metadata": {},
   "source": [
    "#### Data Types"
   ]
  },
  {
   "cell_type": "code",
   "execution_count": null,
   "id": "7d401fb5",
   "metadata": {},
   "outputs": [],
   "source": [
    "array = np.array([1, 2, 3, 4, 5])\n",
    "array1 = np.array([1., 2., 3., 4., 5.])\n",
    "array2 = np.array(['abc', 'def', 'ghi'])\n",
    "array3 = np.array([True, False])\n",
    "array4 = np.array(['Hy', 2, 3, 4, 'Hello'])\n",
    "array5 = np.array(['hy', 2., 3.5, 4.4, 'By'])\n",
    "array6 = np.array([True, 'Hy', 'Hello', False])\n",
    "# Data type\n",
    "print(f\"Data type: {array.dtype}\")  # int32 in case of integer array\n",
    "print(f\"Data type: {array1.dtype}\")  # float64 in case of floating point array, as well as an array having both integers and floats\n",
    "print(f\"Data type: {array2.dtype}\")  # <U3 in case of string literals\n",
    "print(f\"Data type: {array3.dtype}\")  # bool in case of boolean\n",
    "print(f\"Data type: {array4.dtype}\")  # <U11 in case of an array having strings and integers\n",
    "print(f\"Data type: {array5.dtype}\")  # <U32 in case of an array having both floats and strings \n",
    "print(f\"Data type: {array6.dtype}\")  # <U5 in case of an array having both boolean and string vals\n"
   ]
  },
  {
   "cell_type": "markdown",
   "id": "c69eaf22",
   "metadata": {},
   "source": [
    "#### Dimensions"
   ]
  },
  {
   "cell_type": "code",
   "execution_count": null,
   "id": "02fba917",
   "metadata": {},
   "outputs": [],
   "source": [
    "array = np.array([1, 2, 3, 4, 5])\n",
    "print(f\"Dimensions: {array.ndim}\")  # 1D\n",
    "\n",
    "Matrix = np.array([[1, 2, 3], [4, 5, 6], [7, 8, 9]])\n",
    "print(f\"Dimensions: {Matrix.ndim}\")  #2D\n",
    "\n",
    "tensor = np.array([[[1, 2, 3], [4, 5, 6]], [[7, 8, 9], [10, 11, 12]]])\n",
    "print(f\"Dimensions: {tensor.ndim}\")   # 3D"
   ]
  },
  {
   "cell_type": "markdown",
   "id": "8fff264d",
   "metadata": {},
   "source": [
    "#### Shape"
   ]
  },
  {
   "cell_type": "code",
   "execution_count": null,
   "id": "1b70f38e",
   "metadata": {},
   "outputs": [],
   "source": [
    "array = np.array([1, 2, 3, 4, 5])\n",
    "print(f\"Shape: {array.shape}\")  # (5,)\n",
    "\n",
    "Matrix = np.array([[1, 2, 3], [4, 5, 6], [7, 8, 9]])\n",
    "print(f\"Shape: {Matrix.shape}\")  # (3, 3)\n",
    "\n",
    "tensor = np.array([[[1, 2, 3], [4, 5, 6]], [[7, 8, 9], [10, 11, 12]]])\n",
    "print(f\"Shape: {tensor.shape}\")   # (2, 2, 3)"
   ]
  },
  {
   "cell_type": "markdown",
   "id": "a153a56e",
   "metadata": {},
   "source": [
    "#### Size"
   ]
  },
  {
   "cell_type": "code",
   "execution_count": null,
   "id": "2fe7c714",
   "metadata": {},
   "outputs": [],
   "source": [
    "# Prints the num of elements\n",
    "\n",
    "array = np.array([1, 2, 3, 4, 5])\n",
    "print(f\"Size: {array.size}\")  # 5\n",
    "\n",
    "Matrix = np.array([[1, 2, 3], [4, 5, 6], [7, 8, 9]])\n",
    "print(f\"Size: {Matrix.size}\")  # 9\n",
    "\n",
    "tensor = np.array([[[1, 2, 3], [4, 5, 6]], [[7, 8, 9], [10, 11, 12]]])\n",
    "print(f\"Size: {tensor.size}\")   # 12"
   ]
  },
  {
   "cell_type": "markdown",
   "id": "3a880bba",
   "metadata": {},
   "source": [
    "## Basic Mathematical Operations"
   ]
  },
  {
   "cell_type": "markdown",
   "id": "755ada4f",
   "metadata": {},
   "source": [
    "##### Sum"
   ]
  },
  {
   "cell_type": "code",
   "execution_count": null,
   "id": "baf919e0",
   "metadata": {},
   "outputs": [],
   "source": [
    "# Sum of 2 numpy arrays\n",
    "# size must be same for both arrays\n",
    "x = np.arange(1, 11)\n",
    "y = np.arange(6, 16)\n",
    "\n",
    "sum = x + y\n",
    "print(f\"Sum is {sum}\")"
   ]
  },
  {
   "cell_type": "markdown",
   "id": "6f6cc12f",
   "metadata": {},
   "source": [
    "##### Squaring "
   ]
  },
  {
   "cell_type": "code",
   "execution_count": null,
   "id": "5a5fa900",
   "metadata": {},
   "outputs": [],
   "source": [
    "x = np.arange(1, 6)\n",
    "y = np.arange(1, 6)\n",
    "\n",
    "Square = x ** y\n",
    "print(f\"Square is: {Square}\")"
   ]
  },
  {
   "cell_type": "markdown",
   "id": "1ad9713c",
   "metadata": {},
   "source": [
    "##### Square root"
   ]
  },
  {
   "cell_type": "code",
   "execution_count": null,
   "id": "3dcac685",
   "metadata": {},
   "outputs": [],
   "source": [
    "x = np.arange(1, 8) \n",
    "\n",
    "sq_rt = np.sqrt(x)  # Return values in floating point numbers\n",
    "print(f\"Square root is: {sq_rt}\")"
   ]
  },
  {
   "cell_type": "markdown",
   "id": "f6b78ad7",
   "metadata": {},
   "source": [
    "##### Exponential values"
   ]
  },
  {
   "cell_type": "code",
   "execution_count": null,
   "id": "957fe964",
   "metadata": {},
   "outputs": [],
   "source": [
    "y = np.exp(x)   # e -> 2.718\n",
    "print(f\"Exponent times number is: {y}\")"
   ]
  }
 ],
 "metadata": {
  "kernelspec": {
   "display_name": "base",
   "language": "python",
   "name": "python3"
  },
  "language_info": {
   "codemirror_mode": {
    "name": "ipython",
    "version": 3
   },
   "file_extension": ".py",
   "mimetype": "text/x-python",
   "name": "python",
   "nbconvert_exporter": "python",
   "pygments_lexer": "ipython3",
   "version": "3.12.7"
  }
 },
 "nbformat": 4,
 "nbformat_minor": 5
}
